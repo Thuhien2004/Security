{
 "cells": [
  {
   "cell_type": "markdown",
   "id": "b2f3c8ee",
   "metadata": {},
   "source": [
    "## 1. Tên gọi\n",
    "\n",
    "Tên gọi: Playfair cipher (do Charles Wheatstone phát minh năm 1854, nhưng Lord Playfair quảng bá).\n",
    "\n",
    "Ý tưởng:\n",
    "\n",
    "Thay vì mã hóa ký tự đơn, Playfair mã hóa 2 ký tự một lúc (digraph).\n",
    "\n",
    "Dùng bảng 5x5 (25 ô) chứa các chữ cái A-Z (thường gộp I/J).\n",
    "\n",
    "Mỗi cặp ký tự plaintext được mã hóa dựa vào vị trí trong bảng.\n",
    "\n",
    "## 2. Tạo bảng khóa (5x5)\n",
    "\n",
    "Dựa trên key (khóa).\n",
    "\n",
    "Loại bỏ ký tự trùng lặp.\n",
    "\n",
    "Thêm các chữ cái còn lại để đầy 25 ô.\n",
    "\n",
    "Ví dụ khóa: \"MONARCHY\"\n",
    "\n",
    "Bảng Playfair sẽ là:"
   ]
  },
  {
   "cell_type": "code",
   "execution_count": null,
   "id": "6da3d553",
   "metadata": {
    "vscode": {
     "languageId": "plaintext"
    }
   },
   "outputs": [],
   "source": [
    "M O N A R\n",
    "C H Y B D\n",
    "E F G I/J K\n",
    "L P Q S T\n",
    "U V W X Z\n"
   ]
  },
  {
   "cell_type": "markdown",
   "id": "84dd2a6b",
   "metadata": {},
   "source": [
    "## 3. Thuật toán mã hóa,giải mã\n",
    "\n",
    "Giả sử cặp ký tự là (A, B):\n",
    "\n",
    "Nếu cùng hàng:\n",
    "\n",
    "Mỗi ký tự → ký tự bên phải (vòng quanh nếu hết hàng).\n",
    "\n",
    "Nếu cùng cột:\n",
    "\n",
    "Mỗi ký tự → ký tự bên dưới (vòng quanh nếu hết cột).\n",
    "\n",
    "Nếu khác hàng và cột:\n",
    "\n",
    "Mỗi ký tự → ký tự ở giao điểm hàng/ cột của ký tự còn lại.\n",
    "\n",
    "Lưu ý:\n",
    "\n",
    "Nếu 2 ký tự trùng nhau trong cặp → chèn X (hoặc ký tự padding khác).\n",
    "\n",
    "Nếu plaintext có số lẻ ký tự → thêm X cuối để đủ cặp.\n",
    "\n",
    "- Giải mã\n",
    "\n",
    "Ngược lại với mã hóa:\n",
    "\n",
    "Cùng hàng → ký tự bên trái.\n",
    "\n",
    "Cùng cột → ký tự bên trên.\n",
    "\n",
    "Khác hàng và cột → dùng giao điểm hàng/cột như mã hóa.\n",
    "\n",
    "## 5. Không gian khóa\n",
    "\n",
    "Key bảng 5x5 → 25 ký tự → không gian khóa lớn:\n",
    "\n",
    "Thực tế: có 25! ≈ 1.55×10^25 khả năng.\n",
    "\n",
    "Nhưng thường khóa ngắn hơn, nên có thể phân tích tần suất nếu ciphertext dài.\n",
    "\n",
    "## 6. Cách phá mã\n",
    "\n",
    "Frequency analysis trên digraphs (cặp ký tự) thay vì ký tự đơn.\n",
    "\n",
    "Tìm bảng khóa khả thi dựa vào cặp phổ biến (ví dụ TH, HE, IN trong tiếng Anh).\n",
    "\n",
    "Brute-force toàn bộ bảng là không khả thi trên máy thường.\n",
    "\n",
    "Các công cụ mã hóa Playfair cổ điển dùng heuristic + trial and error.\n",
    "\n",
    "VÍ DỤ:\n",
    "\n",
    "Key: \"MONARCHY\"\n",
    "\n",
    "Plaintext: \"BALLOON\"\n",
    "\n",
    "Bảng:\n"
   ]
  },
  {
   "cell_type": "code",
   "execution_count": null,
   "id": "f8971081",
   "metadata": {
    "vscode": {
     "languageId": "plaintext"
    }
   },
   "outputs": [],
   "source": [
    "M O N A R\n",
    "C H Y B D\n",
    "E F G I/J K\n",
    "L P Q S T\n",
    "U V W X Z\n"
   ]
  },
  {
   "cell_type": "markdown",
   "id": "2303f9ef",
   "metadata": {},
   "source": [
    "Bước chia cặp: BA LL OO N → BA LX LO ON (chèn X nếu trùng ký tự)\n",
    "\n",
    "Mã hóa cặp BA → tìm B và A → khác hàng/cột → lấy giao điểm →…\n",
    "\n",
    "Kết quả cipher: (ví dụ) IBMPGZ"
   ]
  }
 ],
 "metadata": {
  "language_info": {
   "name": "python"
  }
 },
 "nbformat": 4,
 "nbformat_minor": 5
}
