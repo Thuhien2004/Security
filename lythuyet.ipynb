{
 "cells": [
  {
   "cell_type": "markdown",
   "id": "59fc02f7",
   "metadata": {},
   "source": [
    "## 1. Tên gọi và ý tưởng\n",
    "\n",
    "Tên gọi: Vigenère cipher (tên nhà toán học Blaise de Vigenère, 1553).\n",
    "\n",
    "Ý tưởng: Substitution cipher đa ký tự.\n",
    "\n",
    "Mỗi ký tự plaintext được dịch (shift) theo ký tự tương ứng trong khóa.\n",
    "\n",
    "Khóa được lặp lại nếu ngắn hơn plaintext.\n",
    "\n",
    "Ví dụ: khóa = LEMON, plaintext = ATTACKATDAWN.\n",
    "\n",
    "## 2. Thuật toán mã hóa\n",
    "\n",
    "Giả sử:\n",
    "\n",
    "plaintext gồm các ký tự A-Z (hoặc a-z).\n",
    "\n",
    "key cũng gồm A-Z.\n",
    "\n",
    "Công thức: 𝐶𝑖=(𝑃𝑖+𝐾𝑗)mod 26 Ci=(Pi+Kj) mod 26\n",
    "\n",
    "𝑃𝑖: giá trị số của ký tự plaintext thứ i (A=0,…,Z=25).\n",
    "\n",
    "𝐾𝑗: giá trị số của ký tự khóa thứ j (lặp lại theo i).\n",
    "\n",
    "𝐶𝑖: ký tự ciphertext tương ứng.\n",
    "\n",
    "## 3. Thuật toán:\n",
    "\n",
    "Lặp qua từng ký tự plaintext.\n",
    "\n",
    "Chuyển ký tự và ký tự khóa thành số 0–25.\n",
    "\n",
    "Cộng modulo 26 → ra số ciphertext.\n",
    "\n",
    "Chuyển lại thành ký tự.\n",
    "\n",
    "Lặp lại khóa khi hết.\n"
   ]
  },
  {
   "cell_type": "code",
   "execution_count": null,
   "id": "c363261a",
   "metadata": {
    "vscode": {
     "languageId": "plaintext"
    }
   },
   "outputs": [],
   "source": [
    "##VIDU\n",
    "Plaintext:  A  T  T  A  C  K  A  T  D  A  W  N\n",
    "Key:        L  E  M  O  N  L  E  M  O  N  L  E\n",
    "Ciphertext: L  X  F  O  P  V  E  F  R  N  H  R\n"
   ]
  },
  {
   "attachments": {
    "image.png": {
     "image/png": "[encoded data removed]"
    }
   },
   "cell_type": "markdown",
   "id": "43b90530",
   "metadata": {},
   "source": [
    "- Công thức giải mã:\n",
    "\n",
    "𝑃𝑖=(𝐶𝑖 − 𝐾𝑗 + 26) mod 26\n",
    "\n",
    "Dùng cùng khóa key.\n",
    "\n",
    "Cộng 26 để tránh giá trị âm trước khi modulo 26.\n",
    "\n",
    "## 4. Không gian khóa\n",
    "\n",
    "Nếu khóa dài m ký tự, không gian khóa là 26𝑚\n",
    "\n",
    "Ví dụ:\n",
    "\n",
    "Khóa 3 ký tự → 26^3 = 17,576 khả năng.\n",
    "\n",
    "Khóa 5 ký tự → 26^5 ≈ 11.9 triệu.\n",
    "\n",
    "Không gian khóa tăng rất nhanh theo độ dài khóa → khó phá brute-force nếu khóa dài đủ.\n",
    "\n",
    "## 5. Cách phá mã\n",
    "\n",
    "Vigenère cipher có thể phá bằng phân tích tần suất nếu ciphertext dài. Các kỹ thuật cổ điển:\n",
    "\n",
    "A. Xác định độ dài khóa\n",
    "\n",
    "Kasiski Examination (Kỹ thuật Kasiski):\n",
    "\n",
    "Tìm chuỗi ký tự lặp trong ciphertext.\n",
    "\n",
    "Khoảng cách giữa các chuỗi lặp là bội số của độ dài khóa.\n",
    "\n",
    "Friedman Test (Index of Coincidence, IC):\n",
    "\n",
    "- Tính IC của ciphertext:\n",
    "\n",
    "![image.png](attachment:image.png)\n",
    "\n",
    "So sánh với IC chuẩn của ngôn ngữ (~0.066 với tiếng Anh) → ước lượng độ dài khóa.\n",
    "\n",
    "B. Tách cột theo độ dài khóa\n",
    "\n",
    "Nếu khóa dài m, chia ciphertext thành m chuỗi con, mỗi chuỗi là các ký tự được mã hóa bằng Caesar cipher đơn.\n",
    "\n",
    "C. Phân tích tần suất trên từng cột\n",
    "\n",
    "Vì mỗi cột là Caesar cipher, dùng frequency analysis để suy ra shift từng cột → tìm khóa.\n",
    "\n",
    "D. Brute-force\n",
    "\n",
    "Với khóa ngắn (3–5 ký tự), brute-force tất cả các khả năng 26^m.\n",
    "\n",
    "E. Phần mềm hỗ trợ\n",
    "\n",
    "Trình giải Vigenère cổ điển dùng Kasiski + IC + frequency analysis.\n",
    "\n"
   ]
  }
 ],
 "metadata": {
  "language_info": {
   "name": "python"
  }
 },
 "nbformat": 4,
 "nbformat_minor": 5
}
